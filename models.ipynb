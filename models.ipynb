{
 "cells": [
  {
   "cell_type": "code",
   "execution_count": 1,
   "metadata": {},
   "outputs": [],
   "source": [
    "import tensorflow as tf\n",
    "import tensorflow.keras as keras \n",
    "k = keras.backend\n",
    "import numpy as np\n"
   ]
  },
  {
   "cell_type": "code",
   "execution_count": 2,
   "metadata": {},
   "outputs": [
    {
     "name": "stdout",
     "output_type": "stream",
     "text": [
      "Downloading data from https://storage.googleapis.com/tensorflow/keras-applications/vgg19/vgg19_weights_tf_dim_ordering_tf_kernels.h5\n",
      "574717952/574710816 [==============================] - 474s 1us/step\n",
      "574726144/574710816 [==============================] - 474s 1us/step\n"
     ]
    }
   ],
   "source": [
    "model = tf.keras.applications.VGG19(\n",
    "    include_top=True,\n",
    "    weights=\"imagenet\",\n",
    "    input_tensor=None,\n",
    "    input_shape=None,\n",
    "    pooling=None,\n",
    "    classes=1000,\n",
    "    classifier_activation=\"softmax\",\n",
    ")\n"
   ]
  },
  {
   "cell_type": "code",
   "execution_count": 4,
   "metadata": {},
   "outputs": [],
   "source": [
    "a = tf.identity(np.random.rand(5, 224, 224, 3))"
   ]
  },
  {
   "cell_type": "code",
   "execution_count": 6,
   "metadata": {},
   "outputs": [],
   "source": [
    "o = model(a)"
   ]
  },
  {
   "cell_type": "code",
   "execution_count": 20,
   "metadata": {},
   "outputs": [
    {
     "name": "stdout",
     "output_type": "stream",
     "text": [
      "input_1 [(None, 224, 224, 3)] 0\n",
      "block1_conv1 (None, 224, 224, 64) 1\n",
      "block1_conv2 (None, 224, 224, 64) 2\n",
      "block1_pool (None, 112, 112, 64) 3\n",
      "block2_conv1 (None, 112, 112, 128) 4\n",
      "block2_conv2 (None, 112, 112, 128) 5\n",
      "block2_pool (None, 56, 56, 128) 6\n",
      "block3_conv1 (None, 56, 56, 256) 7\n",
      "block3_conv2 (None, 56, 56, 256) 8\n",
      "block3_conv3 (None, 56, 56, 256) 9\n",
      "block3_conv4 (None, 56, 56, 256) 10\n",
      "block3_pool (None, 28, 28, 256) 11\n",
      "block4_conv1 (None, 28, 28, 512) 12\n",
      "block4_conv2 (None, 28, 28, 512) 13\n",
      "block4_conv3 (None, 28, 28, 512) 14\n",
      "block4_conv4 (None, 28, 28, 512) 15\n",
      "block4_pool (None, 14, 14, 512) 16\n",
      "block5_conv1 (None, 14, 14, 512) 17\n",
      "block5_conv2 (None, 14, 14, 512) 18\n",
      "block5_conv3 (None, 14, 14, 512) 19\n",
      "block5_conv4 (None, 14, 14, 512) 20\n",
      "block5_pool (None, 7, 7, 512) 21\n",
      "flatten (None, 25088) 22\n",
      "fc1 (None, 4096) 23\n",
      "fc2 (None, 4096) 24\n",
      "predictions (None, 1000) 25\n"
     ]
    }
   ],
   "source": [
    "idx = 0\n",
    "for l in model.layers:\n",
    "    \n",
    "    print(l.name, l.output_shape, idx)\n",
    "    idx += 1\n",
    "vgg_outs = keras.models.Model(inputs=[model.input], outputs=[model.layers[1].output,\n",
    "                                                             model.layers[4].output,\n",
    "                                                             model.layers[7].output,\n",
    "                                                             model.layers[12].output,\n",
    "                                                             model.layers[17].output])"
   ]
  },
  {
   "cell_type": "code",
   "execution_count": 21,
   "metadata": {},
   "outputs": [],
   "source": [
    "os = vgg_outs(a)"
   ]
  },
  {
   "cell_type": "code",
   "execution_count": 23,
   "metadata": {},
   "outputs": [
    {
     "ename": "AttributeError",
     "evalue": "'list' object has no attribute 'shape'",
     "output_type": "error",
     "traceback": [
      "\u001b[1;31m---------------------------------------------------------------------------\u001b[0m",
      "\u001b[1;31mAttributeError\u001b[0m                            Traceback (most recent call last)",
      "\u001b[1;32m~\\AppData\\Local\\Temp/ipykernel_6732/1304988038.py\u001b[0m in \u001b[0;36m<module>\u001b[1;34m\u001b[0m\n\u001b[1;32m----> 1\u001b[1;33m \u001b[0mos\u001b[0m\u001b[1;33m.\u001b[0m\u001b[0mshape\u001b[0m\u001b[1;33m\u001b[0m\u001b[1;33m\u001b[0m\u001b[0m\n\u001b[0m",
      "\u001b[1;31mAttributeError\u001b[0m: 'list' object has no attribute 'shape'"
     ]
    }
   ],
   "source": [
    "os.shape"
   ]
  },
  {
   "cell_type": "code",
   "execution_count": null,
   "metadata": {},
   "outputs": [],
   "source": []
  }
 ],
 "metadata": {
  "kernelspec": {
   "display_name": "Python 3.9.8 64-bit",
   "language": "python",
   "name": "python3"
  },
  "language_info": {
   "codemirror_mode": {
    "name": "ipython",
    "version": 3
   },
   "file_extension": ".py",
   "mimetype": "text/x-python",
   "name": "python",
   "nbconvert_exporter": "python",
   "pygments_lexer": "ipython3",
   "version": "3.9.8"
  },
  "orig_nbformat": 4,
  "vscode": {
   "interpreter": {
    "hash": "2469a70536e4d2335a2ea8907942d0699c37342a371ac185bdb5b0aa6f073890"
   }
  }
 },
 "nbformat": 4,
 "nbformat_minor": 2
}
