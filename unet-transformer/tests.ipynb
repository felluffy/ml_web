{
 "cells": [
  {
   "cell_type": "code",
   "execution_count": 1,
   "metadata": {},
   "outputs": [],
   "source": [
    "import torch"
   ]
  },
  {
   "cell_type": "code",
   "execution_count": 9,
   "metadata": {},
   "outputs": [],
   "source": [
    "class linear(torch.nn.Module):\n",
    "    def __init__(self, indim, outdim, bias, activation=None) -> None:\n",
    "        super(linear, self).__init__()\n",
    "        self.in_features = indim\n",
    "        self.bias = bias\n",
    "        self.out_features = outdim\n",
    "        self.activation = activation\n",
    "        self.weights = torch.nn.Parameter(torch.randn(self.out_features, self.in_features))\n",
    "        self.bias = torch.nn.Parameter(torch.zeros(self.out_features))\n",
    "        \n",
    "    def forward(self, x):\n",
    "        y = x.shape[-1]\n",
    "        if y != self.in_features:\n",
    "            return\n",
    "        o = torch.matmul(x, self.weights.T) + self.bias\n",
    "        if self.activation != None:\n",
    "            o = self.activation(x)\n",
    "        return o"
   ]
  },
  {
   "cell_type": "code",
   "execution_count": 18,
   "metadata": {},
   "outputs": [],
   "source": [
    "l = linear(512, 256, True, activation=torch.nn.ReLU())\n",
    "x = torch.randn(8, 4, 512)\n",
    "o = l(x)"
   ]
  },
  {
   "cell_type": "code",
   "execution_count": 19,
   "metadata": {},
   "outputs": [
    {
     "data": {
      "text/plain": [
       "tensor([[[1.0225, 0.7650, 1.8095,  ..., 1.6155, 0.0098, 0.0000],\n",
       "         [1.0123, 0.0000, 0.3151,  ..., 0.1764, 1.6644, 0.1297],\n",
       "         [0.0000, 0.6765, 1.3568,  ..., 0.2414, 0.0000, 1.5367],\n",
       "         [1.1101, 0.4260, 0.0000,  ..., 0.0000, 0.0000, 0.0000]],\n",
       "\n",
       "        [[0.0000, 0.0000, 0.5008,  ..., 0.3994, 1.0657, 0.0000],\n",
       "         [0.5788, 0.1023, 0.0000,  ..., 0.1860, 0.0128, 0.0000],\n",
       "         [0.0000, 0.0000, 0.2297,  ..., 0.6573, 0.1886, 0.2598],\n",
       "         [0.0000, 0.0000, 0.9730,  ..., 0.4263, 0.5964, 1.3807]],\n",
       "\n",
       "        [[0.0000, 0.6636, 0.2820,  ..., 0.9232, 0.0000, 0.0000],\n",
       "         [0.0000, 0.0000, 0.0000,  ..., 0.5075, 0.0000, 0.0000],\n",
       "         [0.0000, 0.0000, 0.0000,  ..., 0.7081, 1.1153, 0.0000],\n",
       "         [0.0000, 0.2780, 0.0000,  ..., 0.0000, 0.0000, 0.0000]],\n",
       "\n",
       "        ...,\n",
       "\n",
       "        [[0.0000, 0.4993, 1.0948,  ..., 0.0000, 0.0000, 0.0000],\n",
       "         [0.3607, 0.6766, 0.0000,  ..., 0.0000, 1.2236, 0.0000],\n",
       "         [1.3981, 0.8489, 0.0000,  ..., 0.0000, 0.0000, 0.0807],\n",
       "         [0.0000, 0.8658, 0.0000,  ..., 0.3095, 0.0000, 0.0000]],\n",
       "\n",
       "        [[0.0000, 0.0000, 0.9412,  ..., 0.0000, 0.0000, 0.2411],\n",
       "         [0.0000, 0.0000, 0.0000,  ..., 0.0000, 0.1507, 0.0000],\n",
       "         [0.0000, 1.9251, 0.9183,  ..., 0.0000, 0.8771, 1.0032],\n",
       "         [1.4715, 0.0000, 0.0000,  ..., 0.0000, 1.6000, 0.0000]],\n",
       "\n",
       "        [[0.0000, 0.2179, 0.0000,  ..., 0.3485, 0.9940, 0.3551],\n",
       "         [1.1873, 0.4666, 0.0000,  ..., 0.0000, 1.2662, 1.2916],\n",
       "         [0.1277, 0.0000, 0.6712,  ..., 0.0000, 0.0000, 0.1959],\n",
       "         [0.0000, 0.1360, 1.0121,  ..., 0.0000, 0.3689, 1.4789]]])"
      ]
     },
     "execution_count": 19,
     "metadata": {},
     "output_type": "execute_result"
    }
   ],
   "source": [
    "ov"
   ]
  },
  {
   "cell_type": "code",
   "execution_count": null,
   "metadata": {},
   "outputs": [],
   "source": []
  }
 ],
 "metadata": {
  "kernelspec": {
   "display_name": "Python 3.9.8 64-bit",
   "language": "python",
   "name": "python3"
  },
  "language_info": {
   "codemirror_mode": {
    "name": "ipython",
    "version": 3
   },
   "file_extension": ".py",
   "mimetype": "text/x-python",
   "name": "python",
   "nbconvert_exporter": "python",
   "pygments_lexer": "ipython3",
   "version": "3.9.8"
  },
  "orig_nbformat": 4,
  "vscode": {
   "interpreter": {
    "hash": "2469a70536e4d2335a2ea8907942d0699c37342a371ac185bdb5b0aa6f073890"
   }
  }
 },
 "nbformat": 4,
 "nbformat_minor": 2
}
